{
 "cells": [
  {
   "cell_type": "code",
   "execution_count": 11,
   "metadata": {
    "collapsed": true
   },
   "outputs": [],
   "source": [
    "import numpy as np\n",
    "import pandas as pd\n",
    "\n",
    "from sklearn.model_selection import KFold\n",
    "from sklearn.model_selection import train_test_split\n",
    "from sklearn.naive_bayes import GaussianNB\n",
    "from sklearn.ensemble import RandomForestClassifier\n",
    "\n",
    "from scipy.io.arff import loadarff"
   ]
  },
  {
   "cell_type": "code",
   "execution_count": 12,
   "metadata": {
    "collapsed": true
   },
   "outputs": [],
   "source": [
    "#supervised learning and evaluation\n",
    "# method to train and test classifier\n",
    "from sklearn import metrics\n",
    "cm = None\n",
    "def supervised_classif(clf, X_train, y_train, X_test, y_test):\n",
    "    \n",
    "    clf.fit(X_train, y_train)\n",
    "    categories = clf.classes_\n",
    "    y_pred = clf.predict(X_test)\n",
    "    cm = pd.crosstab(y_test, y_pred, rownames=['True'], colnames=['Predicted'], margins=True)\n",
    "    cm = metrics.confusion_matrix(y_test, y_pred)\n",
    "    s = 0\n",
    "    for i in range(cm.shape[0]):\n",
    "        s += cm[i][i]\n",
    "    return s"
   ]
  },
  {
   "cell_type": "code",
   "execution_count": 13,
   "metadata": {},
   "outputs": [
    {
     "ename": "AttributeError",
     "evalue": "'DataFrame' object has no attribute 'tolist'",
     "output_type": "error",
     "traceback": [
      "\u001b[0;31m---------------------------------------------------------------------------\u001b[0m",
      "\u001b[0;31mAttributeError\u001b[0m                            Traceback (most recent call last)",
      "\u001b[0;32m<ipython-input-13-333f36867e65>\u001b[0m in \u001b[0;36m<module>\u001b[0;34m()\u001b[0m\n\u001b[1;32m     10\u001b[0m \u001b[0;31m# X=df1['age']\u001b[0m\u001b[0;34m\u001b[0m\u001b[0;34m\u001b[0m\u001b[0m\n\u001b[1;32m     11\u001b[0m \u001b[0mX\u001b[0m\u001b[0;34m=\u001b[0m\u001b[0mdf1\u001b[0m\u001b[0;34m[\u001b[0m\u001b[0mmeta\u001b[0m\u001b[0;34m.\u001b[0m\u001b[0mnames\u001b[0m\u001b[0;34m(\u001b[0m\u001b[0;34m)\u001b[0m\u001b[0;34m[\u001b[0m\u001b[0;34m:\u001b[0m\u001b[0;34m-\u001b[0m\u001b[0;36m1\u001b[0m\u001b[0;34m]\u001b[0m\u001b[0;34m]\u001b[0m\u001b[0;34m\u001b[0m\u001b[0m\n\u001b[0;32m---> 12\u001b[0;31m \u001b[0mX\u001b[0m \u001b[0;34m=\u001b[0m \u001b[0mnp\u001b[0m\u001b[0;34m.\u001b[0m\u001b[0masarray\u001b[0m\u001b[0;34m(\u001b[0m\u001b[0mX\u001b[0m\u001b[0;34m.\u001b[0m\u001b[0mtolist\u001b[0m\u001b[0;34m(\u001b[0m\u001b[0;34m)\u001b[0m\u001b[0;34m,\u001b[0m \u001b[0mdtype\u001b[0m\u001b[0;34m=\u001b[0m\u001b[0mnp\u001b[0m\u001b[0;34m.\u001b[0m\u001b[0mfloat_\u001b[0m\u001b[0;34m)\u001b[0m\u001b[0;34m\u001b[0m\u001b[0m\n\u001b[0m\u001b[1;32m     13\u001b[0m \u001b[0mprint\u001b[0m\u001b[0;34m(\u001b[0m\u001b[0mtype\u001b[0m\u001b[0;34m(\u001b[0m\u001b[0mX\u001b[0m\u001b[0;34m)\u001b[0m\u001b[0;34m)\u001b[0m\u001b[0;34m\u001b[0m\u001b[0m\n\u001b[1;32m     14\u001b[0m \u001b[0;34m\u001b[0m\u001b[0m\n",
      "\u001b[0;32m/usr/lib/python3/dist-packages/pandas/core/generic.py\u001b[0m in \u001b[0;36m__getattr__\u001b[0;34m(self, name)\u001b[0m\n\u001b[1;32m   2358\u001b[0m                 \u001b[0;32mreturn\u001b[0m \u001b[0mself\u001b[0m\u001b[0;34m[\u001b[0m\u001b[0mname\u001b[0m\u001b[0;34m]\u001b[0m\u001b[0;34m\u001b[0m\u001b[0m\n\u001b[1;32m   2359\u001b[0m             raise AttributeError(\"'%s' object has no attribute '%s'\" %\n\u001b[0;32m-> 2360\u001b[0;31m                                  (type(self).__name__, name))\n\u001b[0m\u001b[1;32m   2361\u001b[0m \u001b[0;34m\u001b[0m\u001b[0m\n\u001b[1;32m   2362\u001b[0m     \u001b[0;32mdef\u001b[0m \u001b[0m__setattr__\u001b[0m\u001b[0;34m(\u001b[0m\u001b[0mself\u001b[0m\u001b[0;34m,\u001b[0m \u001b[0mname\u001b[0m\u001b[0;34m,\u001b[0m \u001b[0mvalue\u001b[0m\u001b[0;34m)\u001b[0m\u001b[0;34m:\u001b[0m\u001b[0;34m\u001b[0m\u001b[0m\n",
      "\u001b[0;31mAttributeError\u001b[0m: 'DataFrame' object has no attribute 'tolist'"
     ]
    }
   ],
   "source": [
    "\n",
    "with open(\"/media/vivek/Personal/Vivek/Data_Mining/Labs/Data_Sets/datasets-UCI/UCI/segment.arff\", \"r\") as f:\n",
    "    data, meta = loadarff(f)\n",
    "\n",
    "df=pd.DataFrame(data,columns=meta.names())\n",
    "df1=df[meta.names()[:-1]]\n",
    "# print(df1.size)\n",
    "df1=df1.dropna()\n",
    "# X = data[meta.names()[:-1]]\n",
    "# X=df1['age']\n",
    "X=df1[meta.names()[:-1]]\n",
    "X = np.asarray(X.tolist(), dtype=np.float_)\n",
    "print(type(X))\n",
    "\n",
    "stats = pd.DataFrame(columns=['Fold', 'Classifier_Type', 'ccl_inst_num', 'ccl_inst_per(%)'])\n",
    "stat_index = 0\n",
    "#print(X)\n",
    "\n",
    "# Y = data[meta.names()[-1]]\n",
    "Y=df1['Class']\n",
    "# print(Y)\n",
    "#print(Y)\n",
    "print(type(Y))\n",
    "gnb = GaussianNB()\n",
    "rfc = RandomForestClassifier()\n",
    "train, test = list(), list()\n",
    "\n",
    "for fold in [6, 9, 14]:\n",
    "    kf = KFold(n_splits=fold)\n",
    "    i = 0\n",
    "    s1, s2 = 0, 0\n",
    "    ln = 0\n",
    "    for train, test in kf.split(X):\n",
    "        i += 1\n",
    "        s1 += supervised_classif(gnb, X[train], Y[train], X[test], Y[test])\n",
    "        s2 += supervised_classif(rfc, X[train], Y[train], X[test], Y[test])\n",
    "        ln = len(Y[test])\n",
    "    stats.loc[stat_index] = [fold, 'NB', s1, (s1/(fold*ln))*100]\n",
    "    stat_index += 1\n",
    "    stats.loc[stat_index] = [fold, 'RFC', s2, (s2/(fold*ln))*100]\n",
    "    stat_index += 1\n",
    "stats"
   ]
  },
  {
   "cell_type": "code",
   "execution_count": null,
   "metadata": {},
   "outputs": [],
   "source": [
    "\n",
    "with open(\"data/segment-challenge.arff\", \"r\") as f:\n",
    "    data, meta = loadarff(f)\n",
    "\n",
    "X = data[meta.names()[:-1]]\n",
    "X = np.asarray(X.tolist(), dtype=np.float_)\n",
    "\n",
    "stats = pd.DataFrame(columns=['Per_Split', 'Classifier_Type', 'cl_inst_num','ccl_inst_per(%)'])\n",
    "stat_index = 0\n",
    "#print(X)\n",
    "\n",
    "Y = data[meta.names()[-1]]\n",
    "#print(Y)\n",
    "\n",
    "gnb = GaussianNB()\n",
    "rfc = RandomForestClassifier()\n",
    "train, test = list(), list()\n",
    "\n",
    "for tst_sz in [0.42, 0.54, 0.65]:\n",
    "    print('*'*20,\"tst_sz=\"+str(tst_sz), '*'*20)\n",
    "    kf = KFold(n_splits=fold)\n",
    "    i = 0\n",
    "    X_train, X_test, Y_train, Y_test = train_test_split(X, Y, test_size=tst_sz)\n",
    "    \n",
    "    s1 = supervised_classif(gnb, X_train, Y_train, X_test, Y_test)\n",
    "    s2 = supervised_classif(rfc, X_train, Y_train, X_test, Y_test)\n",
    "    \n",
    "    stats.loc[stat_index] = [tst_sz, 'NB', s1, (s1/len(Y_test))*100]\n",
    "    stat_index += 1\n",
    "    stats.loc[stat_index] = [tst_sz, 'RFC', s2, (s2/len(Y_test))*100]\n",
    "    stat_index += 1\n",
    "stats"
   ]
  },
  {
   "cell_type": "code",
   "execution_count": 4,
   "metadata": {},
   "outputs": [
    {
     "data": {
      "text/html": [
       "<div>\n",
       "<style>\n",
       "    .dataframe thead tr:only-child th {\n",
       "        text-align: right;\n",
       "    }\n",
       "\n",
       "    .dataframe thead th {\n",
       "        text-align: left;\n",
       "    }\n",
       "\n",
       "    .dataframe tbody tr th {\n",
       "        vertical-align: top;\n",
       "    }\n",
       "</style>\n",
       "<table border=\"1\" class=\"dataframe\">\n",
       "  <thead>\n",
       "    <tr style=\"text-align: right;\">\n",
       "      <th></th>\n",
       "      <th>A</th>\n",
       "      <th>B</th>\n",
       "      <th>C</th>\n",
       "      <th>D</th>\n",
       "    </tr>\n",
       "  </thead>\n",
       "  <tbody>\n",
       "    <tr>\n",
       "      <th>0</th>\n",
       "      <td>0.993879</td>\n",
       "      <td>2.108148</td>\n",
       "      <td>-0.443510</td>\n",
       "      <td>1.004434</td>\n",
       "    </tr>\n",
       "    <tr>\n",
       "      <th>1</th>\n",
       "      <td>0.810441</td>\n",
       "      <td>0.193137</td>\n",
       "      <td>-0.852878</td>\n",
       "      <td>0.269274</td>\n",
       "    </tr>\n",
       "    <tr>\n",
       "      <th>2</th>\n",
       "      <td>-0.516137</td>\n",
       "      <td>-1.826965</td>\n",
       "      <td>1.898388</td>\n",
       "      <td>-0.732449</td>\n",
       "    </tr>\n",
       "    <tr>\n",
       "      <th>3</th>\n",
       "      <td>0.249052</td>\n",
       "      <td>0.141836</td>\n",
       "      <td>1.190114</td>\n",
       "      <td>-0.609712</td>\n",
       "    </tr>\n",
       "    <tr>\n",
       "      <th>4</th>\n",
       "      <td>0.477191</td>\n",
       "      <td>-0.441987</td>\n",
       "      <td>1.718548</td>\n",
       "      <td>0.211608</td>\n",
       "    </tr>\n",
       "    <tr>\n",
       "      <th>5</th>\n",
       "      <td>0.019931</td>\n",
       "      <td>-0.154043</td>\n",
       "      <td>-0.386079</td>\n",
       "      <td>0.014034</td>\n",
       "    </tr>\n",
       "    <tr>\n",
       "      <th>6</th>\n",
       "      <td>-2.126066</td>\n",
       "      <td>-0.312895</td>\n",
       "      <td>0.501415</td>\n",
       "      <td>-1.580835</td>\n",
       "    </tr>\n",
       "    <tr>\n",
       "      <th>7</th>\n",
       "      <td>0.623364</td>\n",
       "      <td>-1.492113</td>\n",
       "      <td>0.581015</td>\n",
       "      <td>-1.221413</td>\n",
       "    </tr>\n",
       "    <tr>\n",
       "      <th>8</th>\n",
       "      <td>-0.423932</td>\n",
       "      <td>-1.490536</td>\n",
       "      <td>0.011406</td>\n",
       "      <td>-0.720819</td>\n",
       "    </tr>\n",
       "    <tr>\n",
       "      <th>9</th>\n",
       "      <td>1.475595</td>\n",
       "      <td>1.061282</td>\n",
       "      <td>-0.913459</td>\n",
       "      <td>0.424487</td>\n",
       "    </tr>\n",
       "  </tbody>\n",
       "</table>\n",
       "</div>"
      ],
      "text/plain": [
       "          A         B         C         D\n",
       "0  0.993879  2.108148 -0.443510  1.004434\n",
       "1  0.810441  0.193137 -0.852878  0.269274\n",
       "2 -0.516137 -1.826965  1.898388 -0.732449\n",
       "3  0.249052  0.141836  1.190114 -0.609712\n",
       "4  0.477191 -0.441987  1.718548  0.211608\n",
       "5  0.019931 -0.154043 -0.386079  0.014034\n",
       "6 -2.126066 -0.312895  0.501415 -1.580835\n",
       "7  0.623364 -1.492113  0.581015 -1.221413\n",
       "8 -0.423932 -1.490536  0.011406 -0.720819\n",
       "9  1.475595  1.061282 -0.913459  0.424487"
      ]
     },
     "execution_count": 4,
     "metadata": {},
     "output_type": "execute_result"
    }
   ],
   "source": [
    "df = pd.DataFrame(np.random.randn(10, 4), columns=list('ABCD'))\n",
    "df"
   ]
  },
  {
   "cell_type": "code",
   "execution_count": 36,
   "metadata": {},
   "outputs": [
    {
     "data": {
      "text/plain": [
       "1.9979631414439738"
      ]
     },
     "execution_count": 36,
     "metadata": {},
     "output_type": "execute_result"
    }
   ],
   "source": [
    "df.loc[1][1]"
   ]
  },
  {
   "cell_type": "code",
   "execution_count": 68,
   "metadata": {},
   "outputs": [
    {
     "data": {
      "text/plain": [
       "array([[1, 2, 3],\n",
       "       [4, 5, 6],\n",
       "       [7, 8, 9]])"
      ]
     },
     "execution_count": 68,
     "metadata": {},
     "output_type": "execute_result"
    }
   ],
   "source": [
    "k = np.append([[1, 2, 3], [4, 5, 6]], [[7, 8, 9]], axis=0)"
   ]
  },
  {
   "cell_type": "code",
   "execution_count": null,
   "metadata": {
    "collapsed": true
   },
   "outputs": [],
   "source": []
  }
 ],
 "metadata": {
  "kernelspec": {
   "display_name": "Python 3",
   "language": "python",
   "name": "python3"
  },
  "language_info": {
   "codemirror_mode": {
    "name": "ipython",
    "version": 3
   },
   "file_extension": ".py",
   "mimetype": "text/x-python",
   "name": "python",
   "nbconvert_exporter": "python",
   "pygments_lexer": "ipython3",
   "version": "3.5.2"
  }
 },
 "nbformat": 4,
 "nbformat_minor": 2
}
